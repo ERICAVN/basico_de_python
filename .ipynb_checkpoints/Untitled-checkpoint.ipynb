{
 "cells": [
  {
   "cell_type": "code",
   "execution_count": 1,
   "id": "98feaa5d",
   "metadata": {},
   "outputs": [],
   "source": [
    "import sqlite3"
   ]
  },
  {
   "cell_type": "code",
   "execution_count": 2,
   "id": "b36f3050",
   "metadata": {},
   "outputs": [],
   "source": [
    "connection= sqlite3.connect(\"tutorial.db\") # se esse banco de dados existir ele já vai conectar com o arquivo"
   ]
  },
  {
   "cell_type": "code",
   "execution_count": 3,
   "id": "8667269b",
   "metadata": {},
   "outputs": [],
   "source": [
    "c= connection.cursor() # cursor permite que você manipule seu banco  de dados"
   ]
  },
  {
   "cell_type": "code",
   "execution_count": 7,
   "id": "ee038d31",
   "metadata": {},
   "outputs": [],
   "source": [
    "# SQL consulta feita nessa linguagem\n",
    "def create_table():\n",
    "    c.execute(\"CREATE TABLE dados(id integer, unix real, keyword text,  \\\n",
    "            datetamp text, value real )\")"
   ]
  },
  {
   "cell_type": "code",
   "execution_count": 8,
   "id": "5ed0a47e",
   "metadata": {},
   "outputs": [],
   "source": [
    "create_table()"
   ]
  },
  {
   "cell_type": "code",
   "execution_count": null,
   "id": "34997f08",
   "metadata": {},
   "outputs": [],
   "source": []
  }
 ],
 "metadata": {
  "kernelspec": {
   "display_name": "Python 3 (ipykernel)",
   "language": "python",
   "name": "python3"
  },
  "language_info": {
   "codemirror_mode": {
    "name": "ipython",
    "version": 3
   },
   "file_extension": ".py",
   "mimetype": "text/x-python",
   "name": "python",
   "nbconvert_exporter": "python",
   "pygments_lexer": "ipython3",
   "version": "3.9.11"
  }
 },
 "nbformat": 4,
 "nbformat_minor": 5
}
