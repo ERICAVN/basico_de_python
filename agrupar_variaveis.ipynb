{
 "cells": [
  {
   "cell_type": "markdown",
   "id": "21e02654",
   "metadata": {},
   "source": [
    "Pequeno exemplo de Análise de Dados\n",
    "\n",
    "\n",
    "O que queremos?\n",
    "Empresa Vende Bermudas\n",
    "5 Lojas\n",
    "Está querendo aumentar as vendas\n",
    "O que fazer?\n",
    "Informações Disponíveis: Base de Vendas"
   ]
  },
  {
   "cell_type": "code",
   "execution_count": null,
   "id": "43046bfa",
   "metadata": {},
   "outputs": [],
   "source": [
    "import pandas as pd\n",
    "tabela=pd.read_csv(\"ml_project1_data.csv\")"
   ]
  },
  {
   "cell_type": "code",
   "execution_count": null,
   "id": "7257fc94",
   "metadata": {},
   "outputs": [],
   "source": [
    "display(tabela)"
   ]
  },
  {
   "cell_type": "code",
   "execution_count": null,
   "id": "2e9460d2",
   "metadata": {},
   "outputs": [],
   "source": [
    "=tabela[\"Marital_Status\"].sum()\n",
    "print(faturamento_total)"
   ]
  },
  {
   "cell_type": "code",
   "execution_count": null,
   "id": "6f60c831",
   "metadata": {},
   "outputs": [],
   "source": [
    "# faturamento por loja\n",
    "faturamento_por_loja=tabela[[\"ID Loja\",\"Valor Final\"]]\n",
    "display(faturamento_por_loja)"
   ]
  },
  {
   "cell_type": "code",
   "execution_count": null,
   "id": "a7cc2a5a",
   "metadata": {},
   "outputs": [],
   "source": [
    "# faturamento por loja e vamos agrupar por lojas e somar faturamento\n",
    "faturamento_por_loja=tabela[[\"ID Loja\",\"Valor Final\"]].groupby(\"ID Loja\").sum()\n",
    "display(faturamento_por_loja)"
   ]
  },
  {
   "cell_type": "code",
   "execution_count": null,
   "id": "95ab0c13",
   "metadata": {},
   "outputs": [],
   "source": [
    "# faturamento por produto, id LOJA E PRODUTO\n",
    "faturamento_por_produto=tabela[[\"ID Loja\",\"Produto\",\"Valor Final\"]].groupby([\"ID Loja\", \"Produto\"]).sum()\n",
    "display(faturamento_por_produto)"
   ]
  },
  {
   "cell_type": "markdown",
   "id": "3b239e79",
   "metadata": {},
   "source": [
    "Vimos que bermuda lisa é o que está fazendo a diferença no faturamento da empresa."
   ]
  }
 ],
 "metadata": {
  "kernelspec": {
   "display_name": "Python 3 (ipykernel)",
   "language": "python",
   "name": "python3"
  },
  "language_info": {
   "codemirror_mode": {
    "name": "ipython",
    "version": 3
   },
   "file_extension": ".py",
   "mimetype": "text/x-python",
   "name": "python",
   "nbconvert_exporter": "python",
   "pygments_lexer": "ipython3",
   "version": "3.9.7"
  }
 },
 "nbformat": 4,
 "nbformat_minor": 5
}
