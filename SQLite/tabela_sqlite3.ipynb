{
 "cells": [
  {
   "cell_type": "code",
   "execution_count": 1,
   "id": "8af678dc",
   "metadata": {},
   "outputs": [],
   "source": [
    "import sqlite3"
   ]
  },
  {
   "cell_type": "code",
   "execution_count": 2,
   "id": "f295b564",
   "metadata": {},
   "outputs": [],
   "source": [
    "connection= sqlite3.connect(\"tutorial.db\") # se esse banco de dados existir ele já vai conectar com o arquivo"
   ]
  },
  {
   "cell_type": "code",
   "execution_count": 3,
   "id": "19031fe2",
   "metadata": {},
   "outputs": [],
   "source": [
    "c= connection.cursor() # cursor permite que você manipule seu banco  de dados"
   ]
  },
  {
   "cell_type": "code",
   "execution_count": 4,
   "id": "0c76a5e7",
   "metadata": {},
   "outputs": [],
   "source": [
    "# SQL consulta feita nessa linguagem\n",
    "def create_table():\n",
    "    c.execute(\"CREATE TABLE IF TABLE NOT EXISTS dados(id integer, unix real, keyword text,  \\\n",
    "            datetamp text, value real )\")\n",
    "# se a tabelka já existir acrescentar IF TABLE NOT EXISTS"
   ]
  },
  {
   "cell_type": "code",
   "execution_count": 5,
   "id": "646e53a1",
   "metadata": {},
   "outputs": [
    {
     "ename": "OperationalError",
     "evalue": "near \"TABLE\": syntax error",
     "output_type": "error",
     "traceback": [
      "\u001b[1;31m---------------------------------------------------------------------------\u001b[0m",
      "\u001b[1;31mOperationalError\u001b[0m                          Traceback (most recent call last)",
      "\u001b[1;32m~\\AppData\\Local\\Temp/ipykernel_16612/3527172592.py\u001b[0m in \u001b[0;36m<module>\u001b[1;34m\u001b[0m\n\u001b[1;32m----> 1\u001b[1;33m \u001b[0mcreate_table\u001b[0m\u001b[1;33m(\u001b[0m\u001b[1;33m)\u001b[0m\u001b[1;33m\u001b[0m\u001b[1;33m\u001b[0m\u001b[0m\n\u001b[0m",
      "\u001b[1;32m~\\AppData\\Local\\Temp/ipykernel_16612/2297978051.py\u001b[0m in \u001b[0;36mcreate_table\u001b[1;34m()\u001b[0m\n\u001b[0;32m      1\u001b[0m \u001b[1;31m# SQL consulta feita nessa linguagem\u001b[0m\u001b[1;33m\u001b[0m\u001b[1;33m\u001b[0m\u001b[0m\n\u001b[0;32m      2\u001b[0m \u001b[1;32mdef\u001b[0m \u001b[0mcreate_table\u001b[0m\u001b[1;33m(\u001b[0m\u001b[1;33m)\u001b[0m\u001b[1;33m:\u001b[0m\u001b[1;33m\u001b[0m\u001b[1;33m\u001b[0m\u001b[0m\n\u001b[1;32m----> 3\u001b[1;33m     c.execute(\"CREATE TABLE IF TABLE NOT EXISTS dados(id integer, unix real, keyword text,  \\\n\u001b[0m\u001b[0;32m      4\u001b[0m             datetamp text, value real )\")\n\u001b[0;32m      5\u001b[0m \u001b[1;31m# se a tabelka já existir acrescentar IF TABLE NOT EXISTS\u001b[0m\u001b[1;33m\u001b[0m\u001b[1;33m\u001b[0m\u001b[0m\n",
      "\u001b[1;31mOperationalError\u001b[0m: near \"TABLE\": syntax error"
     ]
    }
   ],
   "source": [
    "create_table()"
   ]
  }
 ],
 "metadata": {
  "kernelspec": {
   "display_name": "Python 3 (ipykernel)",
   "language": "python",
   "name": "python3"
  },
  "language_info": {
   "codemirror_mode": {
    "name": "ipython",
    "version": 3
   },
   "file_extension": ".py",
   "mimetype": "text/x-python",
   "name": "python",
   "nbconvert_exporter": "python",
   "pygments_lexer": "ipython3",
   "version": "3.9.7"
  }
 },
 "nbformat": 4,
 "nbformat_minor": 5
}
