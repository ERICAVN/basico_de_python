{
 "cells": [
  {
   "cell_type": "code",
   "execution_count": 1,
   "metadata": {},
   "outputs": [],
   "source": [
    "import sqlite3\n"
   ]
  },
  {
   "cell_type": "code",
   "execution_count": 2,
   "metadata": {},
   "outputs": [],
   "source": [
    "banco = sqlite3.connect('primeiro_banco.db') # objeto de conexão com o banco (esse banco já existe )\n",
    "cursor = banco.cursor()"
   ]
  },
  {
   "cell_type": "code",
   "execution_count": 7,
   "metadata": {},
   "outputs": [
    {
     "data": {
      "text/plain": [
       "<sqlite3.Cursor at 0x1a7e2ca7d50>"
      ]
     },
     "execution_count": 7,
     "metadata": {},
     "output_type": "execute_result"
    }
   ],
   "source": [
    "cursor.execute(\"INSERT INTO pessoas VALUES('Pedro', 25, 'pedro@gamil.com')\")"
   ]
  },
  {
   "cell_type": "code",
   "execution_count": 8,
   "metadata": {},
   "outputs": [],
   "source": [
    "banco.commit()# lembrando que aqui salva suas alterações"
   ]
  },
  {
   "cell_type": "code",
   "execution_count": 13,
   "metadata": {},
   "outputs": [
    {
     "name": "stdout",
     "output_type": "stream",
     "text": [
      "[('Maria', 40, 'maria@gmail.com'), ('Erica', 30, 'erica12.nogueira@gmail.com'), ('Maria', 40, 'maria@gmail.com'), ('Erica', 30, 'erica12.nogueira@gmail.com'), ('Pedro', 25, 'pedro@gamil.com'), ('Aline', 45, 'alinemn@gamil.com'), ('Miguel', 14, 'migelito@gmail.com'), ('Aline', 45, 'alinemn@gamil.com')]\n"
     ]
    }
   ],
   "source": [
    "cursor.execute(\"SELECT*FROM pessoas \")\n",
    "print(cursor.fetchall())"
   ]
  },
  {
   "cell_type": "code",
   "execution_count": 12,
   "metadata": {},
   "outputs": [],
   "source": [
    "cursor.execute(\"INSERT INTO pessoas VALUES('Aline', 45, 'alinemn@gamil.com')\")\n",
    "banco.commit()"
   ]
  },
  {
   "cell_type": "code",
   "execution_count": 14,
   "metadata": {},
   "outputs": [
    {
     "name": "stdout",
     "output_type": "stream",
     "text": [
      "os dados foram removidos\n"
     ]
    }
   ],
   "source": [
    "### vamos excluir uma elemento que salvei\n",
    "try:\n",
    "    banco = sqlite3.connect('primeiro_banco.db') \n",
    "    cursor = banco.cursor()\n",
    "    cursor.execute(\"DELETE from pessoas WHERE idade=30 \")\n",
    "    banco.commit()\n",
    "    banco.close()\n",
    "    print(\"os dados foram removidos\")\n",
    "\n",
    "except sqlite3.Error as erro:\n",
    "    print('Erro ao excluir: ', erro)"
   ]
  },
  {
   "cell_type": "code",
   "execution_count": null,
   "metadata": {},
   "outputs": [],
   "source": []
  }
 ],
 "metadata": {
  "interpreter": {
   "hash": "ea4a338c8d5dab4f04dde9349a0681ca10e84e1d7dfa245216f324a72119d3c4"
  },
  "kernelspec": {
   "display_name": "Python 3.9.7 ('base')",
   "language": "python",
   "name": "python3"
  },
  "language_info": {
   "codemirror_mode": {
    "name": "ipython",
    "version": 3
   },
   "file_extension": ".py",
   "mimetype": "text/x-python",
   "name": "python",
   "nbconvert_exporter": "python",
   "pygments_lexer": "ipython3",
   "version": "3.9.7"
  },
  "orig_nbformat": 4
 },
 "nbformat": 4,
 "nbformat_minor": 2
}
