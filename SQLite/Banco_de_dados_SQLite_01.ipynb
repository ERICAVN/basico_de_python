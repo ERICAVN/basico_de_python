{
 "cells": [
  {
   "cell_type": "code",
   "execution_count": 10,
   "metadata": {},
   "outputs": [],
   "source": [
    "import sqlite3\n",
    "import pandas as pd"
   ]
  },
  {
   "cell_type": "code",
   "execution_count": 11,
   "metadata": {},
   "outputs": [],
   "source": [
    "# criar uma variável de conexão com o banco\n",
    "banco=sqlite3.connect(\"primeiro_banco.db\")"
   ]
  },
  {
   "cell_type": "code",
   "execution_count": 12,
   "metadata": {},
   "outputs": [
    {
     "ename": "OperationalError",
     "evalue": "table pessoas already exists",
     "output_type": "error",
     "traceback": [
      "\u001b[1;31m---------------------------------------------------------------------------\u001b[0m",
      "\u001b[1;31mOperationalError\u001b[0m                          Traceback (most recent call last)",
      "\u001b[1;32m~\\AppData\\Local\\Temp/ipykernel_27364/122782489.py\u001b[0m in \u001b[0;36m<module>\u001b[1;34m\u001b[0m\n\u001b[0;32m      2\u001b[0m \u001b[0mcursor\u001b[0m\u001b[1;33m=\u001b[0m \u001b[0mbanco\u001b[0m\u001b[1;33m.\u001b[0m\u001b[0mcursor\u001b[0m\u001b[1;33m(\u001b[0m\u001b[1;33m)\u001b[0m \u001b[1;31m# recebe o objeto onde eu criei meu banco\u001b[0m\u001b[1;33m\u001b[0m\u001b[1;33m\u001b[0m\u001b[0m\n\u001b[0;32m      3\u001b[0m \u001b[1;31m# comando SQL para criar a tabela\u001b[0m\u001b[1;33m\u001b[0m\u001b[1;33m\u001b[0m\u001b[0m\n\u001b[1;32m----> 4\u001b[1;33m \u001b[0mcursor\u001b[0m\u001b[1;33m.\u001b[0m\u001b[0mexecute\u001b[0m\u001b[1;33m(\u001b[0m\u001b[1;34m\"CREATE TABLE pessoas (nome text, idade integer, email text)\"\u001b[0m\u001b[1;33m)\u001b[0m\u001b[1;33m\u001b[0m\u001b[1;33m\u001b[0m\u001b[0m\n\u001b[0m",
      "\u001b[1;31mOperationalError\u001b[0m: table pessoas already exists"
     ]
    }
   ],
   "source": [
    "# criar uma tabela dentro do banco de dados\n",
    "cursor= banco.cursor() # recebe o objeto onde eu criei meu banco\n",
    "# comando SQL para criar a tabela\n",
    "cursor.execute(\"CREATE TABLE pessoas (nome text, idade integer, email text)\")"
   ]
  },
  {
   "cell_type": "code",
   "execution_count": 13,
   "metadata": {},
   "outputs": [
    {
     "data": {
      "text/plain": [
       "<sqlite3.Cursor at 0x21937417e30>"
      ]
     },
     "execution_count": 13,
     "metadata": {},
     "output_type": "execute_result"
    }
   ],
   "source": [
    "cursor.execute(\"INSERT INTO pessoas VALUES('Maria', 40, 'maria@gmail.com')\")# colocar aspas simples quando for inserir dados"
   ]
  },
  {
   "cell_type": "code",
   "execution_count": 14,
   "metadata": {},
   "outputs": [],
   "source": [
    "# commit - confirmação de que estamos inserindo dados no banco\n",
    "banco.commit()"
   ]
  },
  {
   "cell_type": "code",
   "execution_count": 15,
   "metadata": {},
   "outputs": [
    {
     "name": "stdout",
     "output_type": "stream",
     "text": [
      "[('Maria', 40, 'maria@gmail.com'), ('Erica', 30, 'erica12.nogueira@gmail.com'), ('Maria', 40, 'maria@gmail.com')]\n"
     ]
    }
   ],
   "source": [
    "# vou selecionar todos os dados da tabela pessoas\n",
    "cursor.execute(\"SELECT*FROM pessoas\")\n",
    "print(cursor.fetchall())# imprime o que queremos ver"
   ]
  },
  {
   "cell_type": "code",
   "execution_count": 16,
   "metadata": {},
   "outputs": [],
   "source": [
    "# vamos inserir um novo registro no banco\n",
    "cursor.execute(\"INSERT INTO pessoas VALUES('Erica', 30, 'erica12.nogueira@gmail.com')\")\n",
    "banco.commit()# salva o que inseri"
   ]
  },
  {
   "cell_type": "code",
   "execution_count": 17,
   "metadata": {},
   "outputs": [
    {
     "name": "stdout",
     "output_type": "stream",
     "text": [
      "[('Maria', 40, 'maria@gmail.com'), ('Erica', 30, 'erica12.nogueira@gmail.com'), ('Maria', 40, 'maria@gmail.com'), ('Erica', 30, 'erica12.nogueira@gmail.com')]\n"
     ]
    }
   ],
   "source": [
    "cursor.execute(\"SELECT*FROM pessoas\")\n",
    "print(cursor.fetchall())# imprime "
   ]
  },
  {
   "cell_type": "code",
   "execution_count": 21,
   "metadata": {},
   "outputs": [
    {
     "data": {
      "text/plain": [
       "[('Maria', 40, 'maria@gmail.com'),\n",
       " ('Erica', 30, 'erica12.nogueira@gmail.com'),\n",
       " ('Maria', 40, 'maria@gmail.com'),\n",
       " ('Erica', 30, 'erica12.nogueira@gmail.com')]"
      ]
     },
     "execution_count": 21,
     "metadata": {},
     "output_type": "execute_result"
    }
   ],
   "source": [
    "cursor = cursor.execute(\"SELECT*FROM pessoas\")\n",
    "rows = cursor.fetchall()\n",
    "rows"
   ]
  },
  {
   "cell_type": "code",
   "execution_count": 22,
   "metadata": {},
   "outputs": [
    {
     "data": {
      "text/html": [
       "<div>\n",
       "<style scoped>\n",
       "    .dataframe tbody tr th:only-of-type {\n",
       "        vertical-align: middle;\n",
       "    }\n",
       "\n",
       "    .dataframe tbody tr th {\n",
       "        vertical-align: top;\n",
       "    }\n",
       "\n",
       "    .dataframe thead th {\n",
       "        text-align: right;\n",
       "    }\n",
       "</style>\n",
       "<table border=\"1\" class=\"dataframe\">\n",
       "  <thead>\n",
       "    <tr style=\"text-align: right;\">\n",
       "      <th></th>\n",
       "      <th>nome</th>\n",
       "      <th>idade</th>\n",
       "      <th>email</th>\n",
       "    </tr>\n",
       "  </thead>\n",
       "  <tbody>\n",
       "    <tr>\n",
       "      <th>0</th>\n",
       "      <td>Maria</td>\n",
       "      <td>40</td>\n",
       "      <td>maria@gmail.com</td>\n",
       "    </tr>\n",
       "    <tr>\n",
       "      <th>1</th>\n",
       "      <td>Erica</td>\n",
       "      <td>30</td>\n",
       "      <td>erica12.nogueira@gmail.com</td>\n",
       "    </tr>\n",
       "    <tr>\n",
       "      <th>2</th>\n",
       "      <td>Maria</td>\n",
       "      <td>40</td>\n",
       "      <td>maria@gmail.com</td>\n",
       "    </tr>\n",
       "    <tr>\n",
       "      <th>3</th>\n",
       "      <td>Erica</td>\n",
       "      <td>30</td>\n",
       "      <td>erica12.nogueira@gmail.com</td>\n",
       "    </tr>\n",
       "  </tbody>\n",
       "</table>\n",
       "</div>"
      ],
      "text/plain": [
       "    nome  idade                       email\n",
       "0  Maria     40             maria@gmail.com\n",
       "1  Erica     30  erica12.nogueira@gmail.com\n",
       "2  Maria     40             maria@gmail.com\n",
       "3  Erica     30  erica12.nogueira@gmail.com"
      ]
     },
     "execution_count": 22,
     "metadata": {},
     "output_type": "execute_result"
    }
   ],
   "source": [
    "cursor.description\n",
    "pd.DataFrame(rows, columns=[x[0] for x in cursor.description])"
   ]
  }
 ],
 "metadata": {
  "interpreter": {
   "hash": "ea4a338c8d5dab4f04dde9349a0681ca10e84e1d7dfa245216f324a72119d3c4"
  },
  "kernelspec": {
   "display_name": "Python 3.9.7 ('base')",
   "language": "python",
   "name": "python3"
  },
  "language_info": {
   "codemirror_mode": {
    "name": "ipython",
    "version": 3
   },
   "file_extension": ".py",
   "mimetype": "text/x-python",
   "name": "python",
   "nbconvert_exporter": "python",
   "pygments_lexer": "ipython3",
   "version": "3.9.7"
  },
  "orig_nbformat": 4
 },
 "nbformat": 4,
 "nbformat_minor": 2
}
